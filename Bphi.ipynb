{
 "cells": [
  {
   "cell_type": "code",
   "execution_count": 1,
   "metadata": {},
   "outputs": [],
   "source": [
    "import numpy as np\n",
    "import pandas as pd\n",
    "import matplotlib.pyplot as plt\n",
    "import math\n",
    "# from yahist import Hist1D, Hist2D"
   ]
  },
  {
   "cell_type": "code",
   "execution_count": 2,
   "metadata": {},
   "outputs": [],
   "source": [
    "# Utility function for FONLL\n",
    "def getFONLLpt(filename):\n",
    "    \"\"\"\n",
    "    Read a FONLL txt file and return arrays of \n",
    "    pt ds/dpt(central) ds/dpt(low)  ds/dpt(hi)\n",
    "    in pb/GeV\n",
    "    Also, integrate the cross-section\n",
    "    (Integral is done in the stupidest way possible)\n",
    "    Note: also works if FONLL file is ds/deta.           \n",
    "    \"\"\"\n",
    "    \n",
    "    data = np.loadtxt(filename)\n",
    "    pt        = data[:,0]\n",
    "    central   = data[:,1]\n",
    "    down      = data[:,2]\n",
    "    up        = data[:,3]\n",
    "\n",
    "    sigma_central = central.sum()  *  (pt[1]-pt[0]) \n",
    "    sigma_down    = down.sum()     *  (pt[1]-pt[0]) \n",
    "    sigma_up      = up.sum()       *  (pt[1]-pt[0])\n",
    "    return pt, [central, down, up], [sigma_central, sigma_down, sigma_up]"
   ]
  },
  {
   "cell_type": "code",
   "execution_count": 3,
   "metadata": {},
   "outputs": [
    {
     "name": "stdout",
     "output_type": "stream",
     "text": [
      "Inclusive FONLL cross section\n",
      "From ds/dpt:  sigma = 4.74e+08 + 2.15e+08 - 1.86e+08 pb\n",
      "From ds/deta: sigma = 4.66e+08 + 2.10e+08 - 1.80e+08 pb\n",
      "-----------\n",
      "FONLL cross section abs(eta)<2.8\n",
      "From ds/dpt: sigma = 2.72e+08 + 1.20e+08 - 1.06e+08 pb\n",
      "-----------\n",
      "FONLL cross section pt>5\n",
      "From ds/dpt: sigma = 1.89e+08 + 7.78e+07 - 5.61e+07 pb\n",
      "-----------\n",
      "FONLL cross section pt> 5 and abs(eta)<2.8\n",
      "From ds/dpt: sigma = 1.33e+08 + 5.42e+07 - 4.05e+07 pb\n",
      "-----------\n"
     ]
    }
   ],
   "source": [
    "# read the FONLL files, store results, get x-sections\n",
    "pt,   ds,    s    = getFONLLpt(\"FONLL/dsigma-dpt.txt\")\n",
    "eta,  dseta, seta = getFONLLpt(\"FONLL/dsigma-deta.txt\")\n",
    "pt28, ds28,  s28  = getFONLLpt(\"FONLL/dsigma-dpt-eta2.8.txt\")\n",
    "print(\"Inclusive FONLL cross section\")\n",
    "print('From ds/dpt:  sigma = {:.2e}'.format(s[0]), '+ {:.2e}'.format(s[2]-s[0]), '- {:.2e}'.format(s[0]-s[1]), 'pb')\n",
    "print('From ds/deta: sigma = {:.2e}'.format(seta[0]), '+ {:.2e}'.format(seta[2]-seta[0]), '- {:.2e}'.format(seta[0]-seta[1]), 'pb')\n",
    "print(\"-----------\")\n",
    "print(\"FONLL cross section abs(eta)<2.8\")\n",
    "print('From ds/dpt: sigma = {:.2e}'.format(s28[0]), '+ {:.2e}'.format(s28[2]-s28[0]), '- {:.2e}'.format(s28[0]-s28[1]), 'pb')\n",
    "print(\"-----------\")\n",
    "\n",
    "# Now with a cut at pt > 5 GeV\n",
    "ds_5    = ds   * (pt>5)    * (pt[1]-pt[0])\n",
    "ds28_5  = ds28 * (pt28>5)  * (pt28[1]-pt28[0])\n",
    "s_5     = [ds_5[0].sum(),   ds_5[1].sum(),   ds_5[2].sum()]  \n",
    "s28_5   = [ds28_5[0].sum(), ds28_5[1].sum(), ds28_5[2].sum() ]\n",
    "print(\"FONLL cross section pt>5\")\n",
    "print('From ds/dpt: sigma = {:.2e}'.format(s_5[0]), '+ {:.2e}'.format(s_5[2]-s_5[0]), '- {:.2e}'.format(s_5[0]-s_5[1]), 'pb')\n",
    "print(\"-----------\")\n",
    "print(\"FONLL cross section pt> 5 and abs(eta)<2.8\")\n",
    "print('From ds/dpt: sigma = {:.2e}'.format(s28_5[0]), '+ {:.2e}'.format(s28_5[2]-s28_5[0]), '- {:.2e}'.format(s28_5[0]-s28_5[1]), 'pb')\n",
    "print(\"-----------\")"
   ]
  },
  {
   "cell_type": "code",
   "execution_count": null,
   "metadata": {},
   "outputs": [],
   "source": []
  }
 ],
 "metadata": {
  "kernelspec": {
   "display_name": "Python 3",
   "language": "python",
   "name": "python3"
  },
  "language_info": {
   "codemirror_mode": {
    "name": "ipython",
    "version": 3
   },
   "file_extension": ".py",
   "mimetype": "text/x-python",
   "name": "python",
   "nbconvert_exporter": "python",
   "pygments_lexer": "ipython3",
   "version": "3.7.2"
  }
 },
 "nbformat": 4,
 "nbformat_minor": 2
}
